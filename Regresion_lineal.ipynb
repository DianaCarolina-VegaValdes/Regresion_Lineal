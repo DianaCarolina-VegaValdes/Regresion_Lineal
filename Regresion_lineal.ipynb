{
  "cells": [
    {
      "cell_type": "markdown",
      "metadata": {
        "id": "view-in-github",
        "colab_type": "text"
      },
      "source": [
        "<a href=\"https://colab.research.google.com/github/DianaCarolina-VegaValdes/Regresion_Lineal/blob/main/Regresion_lineal.ipynb\" target=\"_parent\"><img src=\"https://colab.research.google.com/assets/colab-badge.svg\" alt=\"Open In Colab\"/></a>"
      ]
    },
    {
      "cell_type": "markdown",
      "metadata": {
        "id": "Ii_7DdtJH8e2"
      },
      "source": [
        "# Taller 3: Regresión Lineal y Conceptos Fundamentales\n",
        "\n",
        "\n"
      ],
      "id": "Ii_7DdtJH8e2"
    },
    {
      "cell_type": "markdown",
      "metadata": {
        "id": "1KuTZ6PkH8e5"
      },
      "source": [
        "## Instrucciones Generales\n",
        "\n",
        "**Fecha de entrega:** 20 de septiembre.\n",
        "**Tiempo disponible:** Tienen dos clases y el fin de semana para completar el taller.\n",
        "\n",
        "1.  **Trabajo en Grupo:** Este taller se debe realizar en los grupos previamente definidos.\n",
        "2.  **Repositorio en GitHub:** Cada grupo debe crear un repositorio en GitHub.\n",
        "    * Una sola persona del grupo es responsable de crearlo.\n",
        "    * El repositorio debe llamarse **`Regresion_Lineal`**.\n",
        "    * Este archivo debe ser subido al repositorio con el nombre **`Regresion_Lineal.ipynb`**.\n",
        "    * **Alternativa:** Si tienen complicaciones con GitHub, pueden enviar el enlace del cuaderno de Google Colab al aula virtual.\n",
        "3.  **Actividad a Mano (20% de la nota):**\n",
        "    * La asistencia a clase es **obligatoria**.\n",
        "    * Se realizará una actividad práctica de regresión lineal a mano.\n",
        "    * Cada integrante del grupo deberá firmar la hoja de la actividad, la cual constituye el 20% de la nota de este taller."
      ],
      "id": "1KuTZ6PkH8e5"
    },
    {
      "cell_type": "markdown",
      "metadata": {
        "id": "mgaEeFAbH8e7"
      },
      "source": [
        "---"
      ],
      "id": "mgaEeFAbH8e7"
    },
    {
      "cell_type": "markdown",
      "metadata": {
        "id": "et22XL5bH8e7"
      },
      "source": [
        "## **Parte 1: Definición del Problema**\n",
        "\n",
        "Piensa en tu experiencia académica o laboral en un área de operaciones y elige **un problema** relacionado con inventarios, calidad, mantenimiento o productividad.\n",
        "\n",
        "1.  Indica cuál es tu variable dependiente **$Y$** (aquello que quieres predecir o clasificar).\n",
        "2.  Lista entre 3 y 5 variables independientes **$X$** que medirías para predecir $Y$.\n",
        "3.  Especifica si tu problema es de **regresión** (predecir un valor numérico) o de **clasificación**."
      ],
      "id": "et22XL5bH8e7"
    },
    {
      "cell_type": "markdown",
      "metadata": {
        "id": "pxSLPR4AH8e8"
      },
      "source": [
        "**Respuesta:**\n",
        "\n",
        "\n",
        "**Respuesta 1:**\n",
        "\n",
        "\n",
        "**Inventarios**\n",
        "\n",
        "En el laboratorio veterinario donde se gestionan reactivos y materiales, se presentan faltantes de inventario que retrasan el trabajo de microbiología. Se requiere un modelo que permita predecir el nivel de inventario futuro para tomar decisiones oportunas de reabastecimiento.\n",
        "\n",
        "Variable dependiente **(a predecir)**:\n",
        "\n",
        "Nivel de inventario disponible **(en unidades o ml/g según el insumo)**.\n",
        "\n",
        "Variables independientes **(posibles predictores)**:\n",
        "\n",
        "Consumo promedio histórico diario **(cantidad usada en el laboratorio)**.\n",
        "\n",
        "Tiempo de entrega del proveedor **(en días)**.\n",
        "\n",
        "Frecuencia de pedidos realizados **(semanal, quincenal, mensual)**.\n",
        "\n",
        "Vida útil o caducidad del producto **(en días/meses)**.\n",
        "\n",
        "Variabilidad de la demanda **(fluctuación en el uso por tipo de prueba realizada)**.\n",
        "\n",
        "**Tipo de problema:**\n",
        "\n",
        "Es un problema de regresión, ya que buscamos predecir un valor numérico **(cantidad de inventario disponible en cierto momento)**.\n",
        "\n",
        "\n",
        "\n",
        "**Respuesta 2:**\n",
        "\n",
        "\n",
        "**Calidad (Control de producción)**\n",
        "\n",
        "Problema identificado:\n",
        "En una línea de producción de envases plásticos, se generan defectos en algunos lotes que afectan la satisfacción del cliente. El objetivo es clasificar si un lote será defectuoso o no.\n",
        "\n",
        "Variable dependiente **(a predecir o clasificar)**:\n",
        "\n",
        "Presencia de defecto en el lote **(Sí / No)**.\n",
        "\n",
        "Variables independientes **(posibles predictores)**:\n",
        "\n",
        "Temperatura de la máquina de inyección **(°C)**.\n",
        "\n",
        "Presión de operación **(bar)**.\n",
        "\n",
        "Tiempo de ciclo de producción **(segundos)**.\n",
        "\n",
        "Humedad del ambiente **(%)**.\n",
        "\n",
        "Turno de producción **(mañana, tarde, noche)**.\n",
        "\n",
        "**Tipo de problema:**\n",
        "\n",
        "Es un problema de clasificación, porque la variable dependiente es binaria **(defectuoso / no defectuoso)**.\n",
        "\n",
        "\n",
        "\n",
        "**Respuesta 3:**\n",
        "\n",
        "\n",
        "Mantenimiento **(Maquinaria industrial)**\n",
        "\n",
        "Problema identificado:\n",
        "En una planta industrial, se quiere predecir el tiempo hasta la próxima falla de una máquina crítica para planear mantenimientos preventivos.\n",
        "\n",
        "Variable dependiente **(a predecir)**:\n",
        "\n",
        "Tiempo hasta la próxima falla **(en días)**.\n",
        "\n",
        "Variables independientes **(posibles predictores)**:\n",
        "\n",
        "Horas de operación acumuladas desde el último mantenimiento.\n",
        "\n",
        "Temperatura promedio del motor **(°C)**.\n",
        "\n",
        "Vibraciones registradas en el eje **(Hz o mm/s)**.\n",
        "\n",
        "Nivel de lubricante **(%)**.\n",
        "\n",
        "Número de mantenimientos correctivos previos en el último año.\n",
        "\n",
        "**Tipo de problema:**\n",
        "\n",
        "Es un problema de regresión, ya que se predice un valor numérico **(tiempo en días)**."
      ],
      "id": "pxSLPR4AH8e8"
    },
    {
      "cell_type": "markdown",
      "metadata": {
        "id": "eHOtOSQiH8e9"
      },
      "source": [
        "## **Parte 2: Preprocesamiento de Datos y *Leakage***\n",
        "\n",
        "Basado en el caso que definiste en la Parte 1:\n",
        "\n",
        "1.  Lista entre 3 y 5 **transformaciones** que aplicarías a tus datos (ej. imputación de valores faltantes, codificación de variables categóricas, escalado, creación de *lags*, etc.) y **justifica por qué** cada una es necesaria.\n",
        "2.  Señala un posible riesgo de ***data leakage*** (fuga de datos) en tu plan y explica cómo lo evitarías usando un *pipeline* de preprocesamiento."
      ],
      "id": "eHOtOSQiH8e9"
    },
    {
      "cell_type": "markdown",
      "metadata": {
        "id": "6KYkmr9mH8e9"
      },
      "source": [
        "**Respuesta:**\n",
        "\n",
        "**Preprocesamiento de Datos y Leakage**\n",
        "\n",
        "Transformaciones a aplicar:\n",
        "\n",
        "Imputación de valores faltantes\n",
        "\n",
        "**Justificación:** Puede que en algunos registros falten datos de consumo histórico o tiempos de entrega por errores en la captura. La imputación **(por media, mediana o métodos más avanzados)** evitará perder información valiosa.\n",
        "\n",
        "**Codificación de variables categóricas**\n",
        "\n",
        "\"Frecuencia de pedidos\" **(semanal, quincenal, mensual)**.\n",
        "\n",
        "**Justificación:** Los algoritmos de machine learning necesitan variables numéricas, así que esta variable debe codificarse **(One-Hot Encoding o Label Encoding)**.\n",
        "\n",
        "Escalado/normalización de variables numéricas\n",
        "\n",
        "Ejemplo: consumo histórico **(en cientos de unidades)** vs. vida útil **(en meses)**.\n",
        "\n",
        "**Justificación:** Evita que variables con magnitudes muy grandes dominen el modelo.\n",
        "\n",
        "Creación de variables derivadas **(lags o rolling averages)**\n",
        "\n",
        "Ejemplo: promedio móvil de consumo en los últimos 7 días.\n",
        "\n",
        "**Justificación:** Captura tendencias y estacionalidad del uso de inventario, mejorando la predicción.\n",
        "\n",
        "Detección y tratamiento de valores atípicos **(outliers)**\n",
        "\n",
        "Ejemplo: un consumo inusualmente alto por una prueba especial.\n",
        "\n",
        "**Justificación:** Los outliers pueden distorsionar la predicción si no se gestionan **(usando winsorización o reglas de negocio)**.\n",
        "\n",
        "**Posible riesgo de Data Leakage:**\n",
        "\n",
        "Si en la creación de variables derivadas como promedios móviles, se incluyen datos futuros al momento de hacer la predicción, estaríamos dándole al modelo información que no tendría en producción.\n",
        "\n",
        "Ejemplo: calcular un promedio de consumo que incluye días posteriores a la fecha que queremos predecir.\n",
        "\n",
        "**Cómo evitarlo usando un pipeline:**\n",
        "\n",
        "Construir un pipeline de preprocesamiento en el que todas las transformaciones **(imputación, escalado, codificación, creación de lags)** se ajusten únicamente con los datos de entrenamiento.\n",
        "\n",
        "Luego, aplicar las mismas transformaciones al conjunto de prueba sin volver a calcular parámetros con esos datos.\n",
        "\n",
        "Para los lags, asegurar que solo se usen observaciones pasadas al momento de la predicción, nunca futuras."
      ],
      "id": "6KYkmr9mH8e9"
    },
    {
      "cell_type": "markdown",
      "metadata": {
        "id": "hbyCKrY6H8e-"
      },
      "source": [
        "---"
      ],
      "id": "hbyCKrY6H8e-"
    },
    {
      "cell_type": "markdown",
      "metadata": {
        "id": "ukCTM2EKH8e-"
      },
      "source": [
        "## **Parte 3: Interpretación y Métricas de Regresión Simple**\n",
        "\n",
        "Para esta sección, elige un caso simple de regresión (puede ser el tuyo o uno hipotético, como predecir la demanda de un producto según su precio).\n",
        "\n",
        "1.  Define claramente las variables **$Y$** y **$X$** junto con sus **unidades** (ej. $Y$: número de unidades vendidas, $X$: precio en dólares).\n",
        "2.  Supón que entrenas un modelo y obtienes una pendiente de **$\\hat{\\beta}_1 = -0.6$**. Escribe una interpretación clara y concisa de este coeficiente en el contexto de tu problema.\n",
        "3.  ¿Qué **métrica** de evaluación usarías (MAE, RMSE, o MAPE) y **por qué** es la más adecuada para tu caso?\n",
        "4.  Menciona **un supuesto** del modelo de regresión lineal que validarías (ej. linealidad, homocedasticidad) y explica **cómo** lo harías (usando un gráfico o una prueba estadística)."
      ],
      "id": "ukCTM2EKH8e-"
    },
    {
      "cell_type": "markdown",
      "metadata": {
        "id": "5KGzW8pSH8e_"
      },
      "source": [
        "**Respuesta:**\n",
        "\n",
        "**Interpretación y Métricas de Regresión Simple**\n",
        "\n",
        "***Caso seleccionado:***\n",
        "Predecir la demanda de un producto veterinario *(antibiótico)* en función de su precio de venta.\n",
        "\n",
        "Variable dependiente **(Y)**:\n",
        "\n",
        "Demanda mensual del producto, medida en unidades vendidas.\n",
        "\n",
        "Variable independiente **(X)**:\n",
        "\n",
        "Precio de venta del producto, en pesos colombianos **(COP)**.\n",
        "\n",
        "**Resultado del modelo:**\n",
        "\n",
        "Supongamos que entrenamos una regresión lineal y obtenemos:\n",
        "\n",
        "Pendiente **(β₁)**= -50.\n",
        "\n",
        "**Interpretación del coeficiente:**\n",
        "\n",
        "Por cada incremento de 1.000 COP en el precio del producto, la demanda disminuye en promedio en 50 unidades mensuales, manteniendo constantes los demás factores.\n",
        "\n",
        "La pendiente negativa indica que existe una relación inversa entre precio y demanda **(lo esperado según la ley de la demanda)**.\n",
        "\n",
        "Métrica de evaluación seleccionada:\n",
        "\n",
        "**MAPE *(Mean Absolute Percentage Error)*.**\n",
        "\n",
        "**Justificación:** En problemas de demanda, es más útil evaluar el error en términos relativos **(%)**, porque el impacto de predecir mal 100 unidades depende del tamaño de la demanda.\n",
        "\n",
        "Ejemplo: un error de 100 unidades es muy grave si la demanda es 200, pero casi irrelevante si es 10.000.\n",
        "\n",
        "**Supuesto del modelo a validar:**\n",
        "\n",
        "Linealidad *(la relación entre X y Y debe ser lineal)*.\n",
        "\n",
        "**Cómo validarlo:**\n",
        "\n",
        "Realizando un gráfico de dispersión **(scatter plot)** entre el precio **(X)** y la demanda **(Y)**.\n",
        "\n",
        "Si los puntos siguen una tendencia aproximadamente recta, la suposición de linealidad se cumple.\n",
        "\n",
        "En caso contrario, habría que considerar una transformación *(ej. logaritmo del precio)* o un modelo no lineal."
      ],
      "id": "5KGzW8pSH8e_"
    },
    {
      "cell_type": "markdown",
      "metadata": {
        "id": "NlCf92svH8e_"
      },
      "source": [
        "---"
      ],
      "id": "NlCf92svH8e_"
    },
    {
      "cell_type": "markdown",
      "metadata": {
        "id": "DEOrd_fSH8e_"
      },
      "source": [
        "## **Parte 4: Regresión Múltiple y Colinealidad**\n",
        "\n",
        "Volviendo a tu caso de la Parte 1 (con múltiples variables).\n",
        "\n",
        "1.  Escribe el **vector de variables** $\\vec{X}$ y la **respuesta** $Y$.\n",
        "2.  Explica cómo interpretarías el **coeficiente** de una de tus variables clave (incluyendo unidades y el sentido de la relación: positiva o negativa).\n",
        "3.  Si sospecharas que existe **colinealidad** entre tus variables, menciona **dos acciones** que podrías tomar para mitigarla."
      ],
      "id": "DEOrd_fSH8e_"
    },
    {
      "cell_type": "markdown",
      "metadata": {
        "id": "REUWPUP_H8fA"
      },
      "source": [
        "**Respuesta:**\n",
        "\n",
        "**Regresión Múltiple y Colinealidad**\n",
        "\n",
        "Caso de inventarios **(de la Parte 1)**:\n",
        "\n",
        "Vector de variables explicativas **(X)v:\n",
        "\n",
        "Consumo promedio histórico diario **(unidades/día)**.\n",
        "\n",
        "Tiempo de entrega del proveedor **(días)**.\n",
        "\n",
        "Frecuencia de pedidos realizados **(semanal, quincenal, mensual)**.\n",
        "\n",
        "Vida útil del producto **(días)**.\n",
        "\n",
        "Variabilidad de la demanda **(desviación estándar de consumo)**.\n",
        "\n",
        "Variable respuesta **(Y)**:\n",
        "\n",
        "Nivel de inventario disponible **(unidades)**.\n",
        "\n",
        "Interpretación de un coeficiente **(ejemplo con el tiempo de entrega del proveedor)**:\n",
        "\n",
        "Supongamos que el coeficiente de “tiempo de entrega” es -15.\n",
        "\n",
        "**Interpretación:** por cada día adicional de demora en la entrega del proveedor, el nivel de inventario disponible disminuye en promedio 15 unidades, manteniendo constantes las demás variables.\n",
        "\n",
        "**Acciones para mitigar colinealidad:**\n",
        "\n",
        "Eliminar o combinar variables altamente correlacionadas **(ej. si “consumo histórico” y “variabilidad de la demanda” están muy relacionados)**.\n",
        "\n",
        "Aplicar técnicas de reducción de dimensionalidad, como Análisis de Componentes Principales **(PCA)**, para resumir información redundante."
      ],
      "id": "REUWPUP_H8fA"
    },
    {
      "cell_type": "markdown",
      "metadata": {
        "id": "Kfz2bBkzH8fA"
      },
      "source": [
        "---"
      ],
      "id": "Kfz2bBkzH8fA"
    },
    {
      "cell_type": "markdown",
      "metadata": {
        "id": "d0sQYW3DH8fA"
      },
      "source": [
        "## **Parte 5: Interacciones y Multicolinealidad (VIF)**\n",
        "\n",
        "1.  Plantea un caso con una variable $Y$ y entre 4 y 6 variables $X$. ¿Qué término de **interacción** entre dos variables podrías añadir al modelo y **por qué** crees que sería útil?\n",
        "2.  Si al calcular el Factor de Inflación de la Varianza (VIF) para una variable, obtienes un valor alto (ej. > 10), menciona **dos acciones** que podrías tomar para solucionarlo."
      ],
      "id": "d0sQYW3DH8fA"
    },
    {
      "cell_type": "markdown",
      "metadata": {
        "id": "tEgefQ1cH8fA"
      },
      "source": [
        "**Respuesta:**\n",
        "\n",
        "**Interacciones y Multicolinealidad (VIF)**\n",
        "\n",
        "Planteamiento:\n",
        "\n",
        "Variable dependiente **(Y)**: Nivel de inventario disponible **(unidades)**.\n",
        "\n",
        "Variables independientes **(X)**:\n",
        "\n",
        "Consumo promedio histórico diario.\n",
        "\n",
        "Tiempo de entrega del proveedor.\n",
        "\n",
        "Frecuencia de pedidos.\n",
        "\n",
        "Vida útil del producto.\n",
        "\n",
        "Variabilidad de la demanda.\n",
        "\n",
        "Término de interacción:\n",
        "\n",
        "Podría incluir una interacción entre consumo promedio histórico × tiempo de entrega del proveedor.\n",
        "\n",
        "**Justificación:** el impacto del consumo en el nivel de inventario depende de cuánto tarde el proveedor en entregar. Si el consumo es alto y la entrega es lenta, el riesgo de ruptura de stock se multiplica.\n",
        "\n",
        "Acciones si el VIF es alto **(>10)**:\n",
        "\n",
        "Eliminar la variable redundante que esté aportando poca información única al modelo.\n",
        "\n",
        "Reescalar o transformar variables **(por ejemplo, convertir “frecuencia de pedidos” a una medida continua de “días entre pedidos”)** para reducir redundancia."
      ],
      "id": "tEgefQ1cH8fA"
    },
    {
      "cell_type": "markdown",
      "metadata": {
        "id": "8XdQIyu_H8fB"
      },
      "source": [
        "---"
      ],
      "id": "8XdQIyu_H8fB"
    },
    {
      "cell_type": "markdown",
      "metadata": {
        "id": "XKsr-uPlH8fB"
      },
      "source": [
        "## **Parte 6: Variables Categóricas e Interacciones**\n",
        "\n",
        "1.  Define una **variable categórica** para tu caso (puedes inventarla si no la tenías). Elige una de sus categorías como el nivel **base** o de referencia y **justifica** tu elección.\n",
        "2.  Crea una **interacción** entre una variable numérica y la variable categórica que definiste. Explica cómo se interpretaría el coeficiente de esta interacción."
      ],
      "id": "XKsr-uPlH8fB"
    },
    {
      "cell_type": "markdown",
      "metadata": {
        "id": "7i_JBwwbH8fC"
      },
      "source": [
        "**Respuesta:**\n",
        "\n",
        "**Variables Categóricas e Interacciones**\n",
        "\n",
        "Variable categórica definida:\n",
        "\n",
        "Proveedor **(categorías: Proveedor A, Proveedor B, Proveedor C)**.\n",
        "\n",
        "**Nivel base de referencia:**\n",
        "\n",
        "Proveedor A, porque es el más frecuente y considerado estándar en la operación.\n",
        "\n",
        "**Interacción creada:**\n",
        "\n",
        "Tiempo de entrega × Proveedor.\n",
        "\n",
        "**Interpretación del coeficiente de la interacción:**\n",
        "\n",
        "Si la interacción para “Tiempo de entrega × Proveedor B” es positiva y significativa, significa que un aumento en los días de entrega por parte del Proveedor B impacta de forma distinta *(mayor o menor)* en el nivel de inventario respecto al proveedor de referencia *(A)*. En otras palabras, el efecto del tiempo de entrega en el inventario depende de quién sea el proveedor."
      ],
      "id": "7i_JBwwbH8fC"
    },
    {
      "cell_type": "markdown",
      "metadata": {
        "id": "DjYrQWpqH8fC"
      },
      "source": [
        "---"
      ],
      "id": "DjYrQWpqH8fC"
    },
    {
      "cell_type": "markdown",
      "metadata": {
        "id": "mG9YJpeoH8fC"
      },
      "source": [
        "## **Parte 7: Conceptos Clave de Clasificación**\n",
        "\n",
        "Aunque el taller se centra en regresión, estos conceptos son fundamentales en Machine Learning.\n",
        "\n",
        "1.  Explica qué es la **curva ROC** y para qué se utiliza en un problema de clasificación.\n",
        "2.  Define el concepto de **accuracy** (exactitud) y menciona una situación en la que podría ser una métrica engañosa.\n",
        "3.  Describe qué es una **matriz de confusión** y cómo se interpretan sus componentes (Verdaderos Positivos, Falsos Positivos, Verdaderos Negativos, Falsos Negativos)."
      ],
      "id": "mG9YJpeoH8fC"
    },
    {
      "cell_type": "markdown",
      "metadata": {
        "id": "aq-cYN3nH8fD"
      },
      "source": [
        "**Respuesta:**\n",
        "\n",
        "\n",
        "Curva ROC **(Receiver Operating Characteristic)**:\n",
        "\n",
        "Es una gráfica que muestra la capacidad de un modelo de clasificación para distinguir entre clases.\n",
        "\n",
        "Representa la tasa de verdaderos positivos **(sensibilidad)** frente a la tasa de falsos positivos.\n",
        "\n",
        "Se utiliza para comparar modelos y elegir el umbral de decisión óptimo.\n",
        "\n",
        "Accuracy **(exactitud)**:\n",
        "\n",
        "Es la proporción de predicciones correctas respecto al total de casos.\n",
        "\n",
        "Puede ser engañosa en casos de clases desbalanceadas.\n",
        "\n",
        "Ejemplo: si solo el 1% de los clientes hace fraude y el modelo siempre predice “no fraude”, tendría 99% de accuracy, pero en realidad no detecta fraudes.\n",
        "\n",
        "**Matriz de confusión:**\n",
        "\n",
        "Es una tabla que resume el desempeño de un modelo de clasificación.\n",
        "\n",
        "**Verdaderos Positivos (VP):** casos correctamente clasificados como positivos.\n",
        "\n",
        "**Falsos Positivos (FP):** casos clasificados como positivos, pero en realidad eran negativos.\n",
        "\n",
        "**Verdaderos Negativos (VN):** casos correctamente clasificados como negativos.\n",
        "\n",
        "**Falsos Negativos (FN):** casos clasificados como negativos, pero en realidad eran positivos."
      ],
      "id": "aq-cYN3nH8fD"
    }
  ],
  "metadata": {
    "kernelspec": {
      "display_name": "Python 3",
      "language": "python",
      "name": "python3"
    },
    "language_info": {
      "name": "python",
      "version": "3.x"
    },
    "colab": {
      "provenance": [],
      "toc_visible": true,
      "include_colab_link": true
    }
  },
  "nbformat": 4,
  "nbformat_minor": 5
}